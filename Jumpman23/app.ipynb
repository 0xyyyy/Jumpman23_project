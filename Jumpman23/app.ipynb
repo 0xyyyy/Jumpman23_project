{
 "metadata": {
  "language_info": {
   "codemirror_mode": {
    "name": "ipython",
    "version": 3
   },
   "file_extension": ".py",
   "mimetype": "text/x-python",
   "name": "python",
   "nbconvert_exporter": "python",
   "pygments_lexer": "ipython3",
   "version": "3.7.4-final"
  },
  "orig_nbformat": 2,
  "kernelspec": {
   "name": "python_defaultSpec_1599860487626",
   "display_name": "Python 3.7.4 64-bit ('base': conda)"
  }
 },
 "nbformat": 4,
 "nbformat_minor": 2,
 "cells": [
  {
   "cell_type": "code",
   "execution_count": 1,
   "metadata": {},
   "outputs": [],
   "source": [
    "import pandas as pd \n",
    "import matplotlib.pyplot as plt \n",
    "import numpy as np "
   ]
  },
  {
   "cell_type": "code",
   "execution_count": 2,
   "metadata": {},
   "outputs": [],
   "source": [
    "#load in csv \n",
    "df = pd.read_csv(\"analyze_me.csv\")"
   ]
  },
  {
   "cell_type": "code",
   "execution_count": 11,
   "metadata": {},
   "outputs": [
    {
     "output_type": "execute_result",
     "data": {
      "text/plain": "   delivery_id  customer_id  jumpman_id vehicle_type         pickup_place  \\\n0      1457973       327168      162381          van            Melt Shop   \n1      1377056        64452      104533      bicycle  Prince Street Pizza   \n2      1476547        83095      132725      bicycle           Bareburger   \n3      1485494       271149      157175      bicycle          Juice Press   \n4      1327707       122609      118095      bicycle    Blue Ribbon Sushi   \n5      1423142        75169       91932      bicycle     Tamarind TriBeCa   \n6      1334106       101347      124897      bicycle             The Loop   \n7      1311619        59161       79847      bicycle     Insomnia Cookies   \n8      1487674        55375      181543      bicycle           Cafe Zaiya   \n9      1417206       153816      157415          car          Shake Shack   \n\n  place_category                    item_name  item_quantity  \\\n0       American                     Lemonade            1.0   \n1          Pizza        Neapolitan Rice Balls            3.0   \n2         Burger                   Bare Sodas            1.0   \n3      Juice Bar      OMG! My Favorite Juice!            1.0   \n4       Japanese  Spicy Tuna & Tempura Flakes            2.0   \n5         Indian                Dum Aloo Gobi            1.0   \n6          Sushi              Spicy Tuna Roll            1.0   \n7         Bakery              Chocolate Chunk            2.0   \n8            NaN                          NaN            NaN   \n9         Burger                  Shackburger            1.0   \n\n         item_category_name how_long_it_took_to_order  pickup_lat  pickup_lon  \\\n0                 Beverages           00:19:58.582052   40.744607  -73.990742   \n1                Munchables           00:25:09.107093   40.723080  -73.994615   \n2                    Drinks           00:06:44.541717   40.728478  -73.998392   \n3       Cold Pressed Juices                       NaN   40.738868  -74.002747   \n4      Maki (Special Rolls)           00:03:45.035418   40.726110  -74.002492   \n5    Vegetarian Specialties           00:07:14.327405   40.719269  -74.008750   \n6  Classic Roll & Hand Roll           00:04:49.413655   40.734858  -73.986093   \n7      Cookies and Brownies                       NaN   40.729791  -74.000589   \n8                       NaN                       NaN   40.729357  -73.990156   \n9                   Burgers                       NaN   40.758457  -73.989140   \n\n   dropoff_lat  dropoff_lon   when_the_delivery_started  \\\n0    40.752073   -73.985370  2014-10-26 13:51:59.898924   \n1    40.719722   -73.991858   2014-10-16 21:58:58.65491   \n2    40.728606   -73.995143  2014-10-28 21:39:52.654394   \n3    40.751257   -74.005634  2014-10-30 10:54:11.531894   \n4    40.709323   -74.015867  2014-10-10 00:07:18.450505   \n5    40.725678   -74.000618  2014-10-22 18:56:36.348939   \n6    40.738368   -74.000105  2014-10-10 21:08:55.489926   \n7    40.734703   -73.998206  2014-10-06 23:20:09.312584   \n8    40.719758   -73.985011  2014-10-30 16:49:48.259935   \n9    40.743613   -73.977684  2014-10-21 21:18:37.909545   \n\n  when_the_Jumpman_arrived_at_pickup when_the_Jumpman_left_pickup  \\\n0                                NaN                          NaN   \n1         2014-10-16 22:26:02.120931   2014-10-16 22:48:23.091253   \n2         2014-10-28 21:37:18.793405    2014-10-28 21:59:09.98481   \n3         2014-10-30 11:04:17.759577   2014-10-30 11:16:37.895816   \n4         2014-10-10 00:14:42.702223   2014-10-10 00:25:19.400294   \n5         2014-10-22 19:18:49.953427    2014-10-22 19:27:10.57897   \n6         2014-10-10 21:07:15.966292   2014-10-10 21:29:24.500711   \n7          2014-10-06 23:17:35.66695   2014-10-07 00:03:24.389592   \n8         2014-10-30 16:55:32.446053   2014-10-30 17:01:22.214264   \n9         2014-10-21 21:20:14.434227   2014-10-21 21:47:03.624931   \n\n  when_the_Jumpman_arrived_at_dropoff  \n0          2014-10-26 14:52:06.313088  \n1          2014-10-16 22:59:22.948873  \n2          2014-10-28 22:04:40.634962  \n3          2014-10-30 11:32:38.090061  \n4          2014-10-10 00:48:27.150595  \n5          2014-10-22 19:36:53.801191  \n6          2014-10-10 21:40:01.697548  \n7          2014-10-07 00:09:16.559521  \n8          2014-10-30 17:10:44.731901  \n9          2014-10-21 21:59:26.081278  ",
      "text/html": "<div>\n<style scoped>\n    .dataframe tbody tr th:only-of-type {\n        vertical-align: middle;\n    }\n\n    .dataframe tbody tr th {\n        vertical-align: top;\n    }\n\n    .dataframe thead th {\n        text-align: right;\n    }\n</style>\n<table border=\"1\" class=\"dataframe\">\n  <thead>\n    <tr style=\"text-align: right;\">\n      <th></th>\n      <th>delivery_id</th>\n      <th>customer_id</th>\n      <th>jumpman_id</th>\n      <th>vehicle_type</th>\n      <th>pickup_place</th>\n      <th>place_category</th>\n      <th>item_name</th>\n      <th>item_quantity</th>\n      <th>item_category_name</th>\n      <th>how_long_it_took_to_order</th>\n      <th>pickup_lat</th>\n      <th>pickup_lon</th>\n      <th>dropoff_lat</th>\n      <th>dropoff_lon</th>\n      <th>when_the_delivery_started</th>\n      <th>when_the_Jumpman_arrived_at_pickup</th>\n      <th>when_the_Jumpman_left_pickup</th>\n      <th>when_the_Jumpman_arrived_at_dropoff</th>\n    </tr>\n  </thead>\n  <tbody>\n    <tr>\n      <th>0</th>\n      <td>1457973</td>\n      <td>327168</td>\n      <td>162381</td>\n      <td>van</td>\n      <td>Melt Shop</td>\n      <td>American</td>\n      <td>Lemonade</td>\n      <td>1.0</td>\n      <td>Beverages</td>\n      <td>00:19:58.582052</td>\n      <td>40.744607</td>\n      <td>-73.990742</td>\n      <td>40.752073</td>\n      <td>-73.985370</td>\n      <td>2014-10-26 13:51:59.898924</td>\n      <td>NaN</td>\n      <td>NaN</td>\n      <td>2014-10-26 14:52:06.313088</td>\n    </tr>\n    <tr>\n      <th>1</th>\n      <td>1377056</td>\n      <td>64452</td>\n      <td>104533</td>\n      <td>bicycle</td>\n      <td>Prince Street Pizza</td>\n      <td>Pizza</td>\n      <td>Neapolitan Rice Balls</td>\n      <td>3.0</td>\n      <td>Munchables</td>\n      <td>00:25:09.107093</td>\n      <td>40.723080</td>\n      <td>-73.994615</td>\n      <td>40.719722</td>\n      <td>-73.991858</td>\n      <td>2014-10-16 21:58:58.65491</td>\n      <td>2014-10-16 22:26:02.120931</td>\n      <td>2014-10-16 22:48:23.091253</td>\n      <td>2014-10-16 22:59:22.948873</td>\n    </tr>\n    <tr>\n      <th>2</th>\n      <td>1476547</td>\n      <td>83095</td>\n      <td>132725</td>\n      <td>bicycle</td>\n      <td>Bareburger</td>\n      <td>Burger</td>\n      <td>Bare Sodas</td>\n      <td>1.0</td>\n      <td>Drinks</td>\n      <td>00:06:44.541717</td>\n      <td>40.728478</td>\n      <td>-73.998392</td>\n      <td>40.728606</td>\n      <td>-73.995143</td>\n      <td>2014-10-28 21:39:52.654394</td>\n      <td>2014-10-28 21:37:18.793405</td>\n      <td>2014-10-28 21:59:09.98481</td>\n      <td>2014-10-28 22:04:40.634962</td>\n    </tr>\n    <tr>\n      <th>3</th>\n      <td>1485494</td>\n      <td>271149</td>\n      <td>157175</td>\n      <td>bicycle</td>\n      <td>Juice Press</td>\n      <td>Juice Bar</td>\n      <td>OMG! My Favorite Juice!</td>\n      <td>1.0</td>\n      <td>Cold Pressed Juices</td>\n      <td>NaN</td>\n      <td>40.738868</td>\n      <td>-74.002747</td>\n      <td>40.751257</td>\n      <td>-74.005634</td>\n      <td>2014-10-30 10:54:11.531894</td>\n      <td>2014-10-30 11:04:17.759577</td>\n      <td>2014-10-30 11:16:37.895816</td>\n      <td>2014-10-30 11:32:38.090061</td>\n    </tr>\n    <tr>\n      <th>4</th>\n      <td>1327707</td>\n      <td>122609</td>\n      <td>118095</td>\n      <td>bicycle</td>\n      <td>Blue Ribbon Sushi</td>\n      <td>Japanese</td>\n      <td>Spicy Tuna &amp; Tempura Flakes</td>\n      <td>2.0</td>\n      <td>Maki (Special Rolls)</td>\n      <td>00:03:45.035418</td>\n      <td>40.726110</td>\n      <td>-74.002492</td>\n      <td>40.709323</td>\n      <td>-74.015867</td>\n      <td>2014-10-10 00:07:18.450505</td>\n      <td>2014-10-10 00:14:42.702223</td>\n      <td>2014-10-10 00:25:19.400294</td>\n      <td>2014-10-10 00:48:27.150595</td>\n    </tr>\n    <tr>\n      <th>5</th>\n      <td>1423142</td>\n      <td>75169</td>\n      <td>91932</td>\n      <td>bicycle</td>\n      <td>Tamarind TriBeCa</td>\n      <td>Indian</td>\n      <td>Dum Aloo Gobi</td>\n      <td>1.0</td>\n      <td>Vegetarian Specialties</td>\n      <td>00:07:14.327405</td>\n      <td>40.719269</td>\n      <td>-74.008750</td>\n      <td>40.725678</td>\n      <td>-74.000618</td>\n      <td>2014-10-22 18:56:36.348939</td>\n      <td>2014-10-22 19:18:49.953427</td>\n      <td>2014-10-22 19:27:10.57897</td>\n      <td>2014-10-22 19:36:53.801191</td>\n    </tr>\n    <tr>\n      <th>6</th>\n      <td>1334106</td>\n      <td>101347</td>\n      <td>124897</td>\n      <td>bicycle</td>\n      <td>The Loop</td>\n      <td>Sushi</td>\n      <td>Spicy Tuna Roll</td>\n      <td>1.0</td>\n      <td>Classic Roll &amp; Hand Roll</td>\n      <td>00:04:49.413655</td>\n      <td>40.734858</td>\n      <td>-73.986093</td>\n      <td>40.738368</td>\n      <td>-74.000105</td>\n      <td>2014-10-10 21:08:55.489926</td>\n      <td>2014-10-10 21:07:15.966292</td>\n      <td>2014-10-10 21:29:24.500711</td>\n      <td>2014-10-10 21:40:01.697548</td>\n    </tr>\n    <tr>\n      <th>7</th>\n      <td>1311619</td>\n      <td>59161</td>\n      <td>79847</td>\n      <td>bicycle</td>\n      <td>Insomnia Cookies</td>\n      <td>Bakery</td>\n      <td>Chocolate Chunk</td>\n      <td>2.0</td>\n      <td>Cookies and Brownies</td>\n      <td>NaN</td>\n      <td>40.729791</td>\n      <td>-74.000589</td>\n      <td>40.734703</td>\n      <td>-73.998206</td>\n      <td>2014-10-06 23:20:09.312584</td>\n      <td>2014-10-06 23:17:35.66695</td>\n      <td>2014-10-07 00:03:24.389592</td>\n      <td>2014-10-07 00:09:16.559521</td>\n    </tr>\n    <tr>\n      <th>8</th>\n      <td>1487674</td>\n      <td>55375</td>\n      <td>181543</td>\n      <td>bicycle</td>\n      <td>Cafe Zaiya</td>\n      <td>NaN</td>\n      <td>NaN</td>\n      <td>NaN</td>\n      <td>NaN</td>\n      <td>NaN</td>\n      <td>40.729357</td>\n      <td>-73.990156</td>\n      <td>40.719758</td>\n      <td>-73.985011</td>\n      <td>2014-10-30 16:49:48.259935</td>\n      <td>2014-10-30 16:55:32.446053</td>\n      <td>2014-10-30 17:01:22.214264</td>\n      <td>2014-10-30 17:10:44.731901</td>\n    </tr>\n    <tr>\n      <th>9</th>\n      <td>1417206</td>\n      <td>153816</td>\n      <td>157415</td>\n      <td>car</td>\n      <td>Shake Shack</td>\n      <td>Burger</td>\n      <td>Shackburger</td>\n      <td>1.0</td>\n      <td>Burgers</td>\n      <td>NaN</td>\n      <td>40.758457</td>\n      <td>-73.989140</td>\n      <td>40.743613</td>\n      <td>-73.977684</td>\n      <td>2014-10-21 21:18:37.909545</td>\n      <td>2014-10-21 21:20:14.434227</td>\n      <td>2014-10-21 21:47:03.624931</td>\n      <td>2014-10-21 21:59:26.081278</td>\n    </tr>\n  </tbody>\n</table>\n</div>"
     },
     "metadata": {},
     "execution_count": 11
    }
   ],
   "source": [
    "df.head(10)"
   ]
  },
  {
   "cell_type": "code",
   "execution_count": 10,
   "metadata": {
    "tags": []
   },
   "outputs": [
    {
     "output_type": "stream",
     "name": "stdout",
     "text": "delivery_id                             0.000000\ncustomer_id                             0.000000\njumpman_id                              0.000000\nvehicle_type                            0.000000\npickup_place                            0.000000\nplace_category                         14.758482\nitem_name                              20.558248\nitem_quantity                          20.558248\nitem_category_name                     20.558248\nhow_long_it_took_to_order              49.222798\npickup_lat                              0.000000\npickup_lon                              0.000000\ndropoff_lat                             0.000000\ndropoff_lon                             0.000000\nwhen_the_delivery_started               0.000000\nwhen_the_Jumpman_arrived_at_pickup      9.192713\nwhen_the_Jumpman_left_pickup            9.192713\nwhen_the_Jumpman_arrived_at_dropoff     0.000000\ndtype: float64\n"
    }
   ],
   "source": [
    "#Count of all NaN in each column \n",
    "null = df.isnull().sum()\n",
    "#Count all non null values \n",
    "notnull = df.count(axis=0)\n",
    "#% of data that is null by column \n",
    "pct_null = (null/(null+notnull))*100\n",
    "print(pct_null)"
   ]
  },
  {
   "cell_type": "code",
   "execution_count": null,
   "metadata": {},
   "outputs": [],
   "source": []
  }
 ]
}